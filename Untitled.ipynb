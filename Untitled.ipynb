{
 "cells": [
  {
   "cell_type": "code",
   "execution_count": 44,
   "metadata": {},
   "outputs": [
    {
     "name": "stdout",
     "output_type": "stream",
     "text": [
      "^C\n"
     ]
    }
   ],
   "source": [
    "# !pip install tensorflow"
   ]
  },
  {
   "cell_type": "code",
   "execution_count": 4,
   "metadata": {},
   "outputs": [],
   "source": [
    "import numpy as np\n",
    "import matplotlib.pyplot as plt\n",
    "import pandas as pd\n",
    "from sklearn.preprocessing import StandardScaler, MinMaxScaler"
   ]
  },
  {
   "cell_type": "code",
   "execution_count": 11,
   "metadata": {},
   "outputs": [
    {
     "data": {
      "text/html": [
       "<div>\n",
       "<style scoped>\n",
       "    .dataframe tbody tr th:only-of-type {\n",
       "        vertical-align: middle;\n",
       "    }\n",
       "\n",
       "    .dataframe tbody tr th {\n",
       "        vertical-align: top;\n",
       "    }\n",
       "\n",
       "    .dataframe thead th {\n",
       "        text-align: right;\n",
       "    }\n",
       "</style>\n",
       "<table border=\"1\" class=\"dataframe\">\n",
       "  <thead>\n",
       "    <tr style=\"text-align: right;\">\n",
       "      <th></th>\n",
       "      <th>Date</th>\n",
       "      <th>Open</th>\n",
       "      <th>High</th>\n",
       "      <th>Low</th>\n",
       "      <th>Close</th>\n",
       "      <th>Volume</th>\n",
       "    </tr>\n",
       "  </thead>\n",
       "  <tbody>\n",
       "    <tr>\n",
       "      <th>8359</th>\n",
       "      <td>2017-11-06</td>\n",
       "      <td>171.75</td>\n",
       "      <td>174.36</td>\n",
       "      <td>171.10</td>\n",
       "      <td>173.63</td>\n",
       "      <td>34901241</td>\n",
       "    </tr>\n",
       "    <tr>\n",
       "      <th>8360</th>\n",
       "      <td>2017-11-07</td>\n",
       "      <td>173.29</td>\n",
       "      <td>174.51</td>\n",
       "      <td>173.29</td>\n",
       "      <td>174.18</td>\n",
       "      <td>24424877</td>\n",
       "    </tr>\n",
       "    <tr>\n",
       "      <th>8361</th>\n",
       "      <td>2017-11-08</td>\n",
       "      <td>174.03</td>\n",
       "      <td>175.61</td>\n",
       "      <td>173.71</td>\n",
       "      <td>175.61</td>\n",
       "      <td>24451166</td>\n",
       "    </tr>\n",
       "    <tr>\n",
       "      <th>8362</th>\n",
       "      <td>2017-11-09</td>\n",
       "      <td>174.48</td>\n",
       "      <td>175.46</td>\n",
       "      <td>172.52</td>\n",
       "      <td>175.25</td>\n",
       "      <td>29533086</td>\n",
       "    </tr>\n",
       "    <tr>\n",
       "      <th>8363</th>\n",
       "      <td>2017-11-10</td>\n",
       "      <td>175.11</td>\n",
       "      <td>175.38</td>\n",
       "      <td>174.27</td>\n",
       "      <td>174.67</td>\n",
       "      <td>25130494</td>\n",
       "    </tr>\n",
       "  </tbody>\n",
       "</table>\n",
       "</div>"
      ],
      "text/plain": [
       "            Date    Open    High     Low   Close    Volume\n",
       "8359  2017-11-06  171.75  174.36  171.10  173.63  34901241\n",
       "8360  2017-11-07  173.29  174.51  173.29  174.18  24424877\n",
       "8361  2017-11-08  174.03  175.61  173.71  175.61  24451166\n",
       "8362  2017-11-09  174.48  175.46  172.52  175.25  29533086\n",
       "8363  2017-11-10  175.11  175.38  174.27  174.67  25130494"
      ]
     },
     "execution_count": 11,
     "metadata": {},
     "output_type": "execute_result"
    }
   ],
   "source": [
    "data = pd.read_csv('aapl.us.txt', date_parser=True)\n",
    "data = data.drop(['OpenInt'], axis=1)\n",
    "data.tail()"
   ]
  },
  {
   "cell_type": "code",
   "execution_count": 64,
   "metadata": {},
   "outputs": [],
   "source": [
    "trainingData = data[data['Date']<'2017-01-01'].copy()\n",
    "testingData = data[data['Date']>='2017-01-01'].copy()"
   ]
  },
  {
   "cell_type": "code",
   "execution_count": 65,
   "metadata": {},
   "outputs": [],
   "source": [
    "trainingData = trainingData.drop(['Date'], axis=1)\n",
    "testingData = testingData.drop(['Date'], axis=1)"
   ]
  },
  {
   "cell_type": "code",
   "execution_count": 66,
   "metadata": {},
   "outputs": [
    {
     "data": {
      "text/html": [
       "<div>\n",
       "<style scoped>\n",
       "    .dataframe tbody tr th:only-of-type {\n",
       "        vertical-align: middle;\n",
       "    }\n",
       "\n",
       "    .dataframe tbody tr th {\n",
       "        vertical-align: top;\n",
       "    }\n",
       "\n",
       "    .dataframe thead th {\n",
       "        text-align: right;\n",
       "    }\n",
       "</style>\n",
       "<table border=\"1\" class=\"dataframe\">\n",
       "  <thead>\n",
       "    <tr style=\"text-align: right;\">\n",
       "      <th></th>\n",
       "      <th>Open</th>\n",
       "      <th>High</th>\n",
       "      <th>Low</th>\n",
       "      <th>Close</th>\n",
       "      <th>Volume</th>\n",
       "    </tr>\n",
       "  </thead>\n",
       "  <tbody>\n",
       "    <tr>\n",
       "      <th>8146</th>\n",
       "      <td>113.97</td>\n",
       "      <td>114.49</td>\n",
       "      <td>112.93</td>\n",
       "      <td>114.31</td>\n",
       "      <td>28186251</td>\n",
       "    </tr>\n",
       "    <tr>\n",
       "      <th>8147</th>\n",
       "      <td>114.02</td>\n",
       "      <td>114.67</td>\n",
       "      <td>113.92</td>\n",
       "      <td>114.19</td>\n",
       "      <td>20850505</td>\n",
       "    </tr>\n",
       "    <tr>\n",
       "      <th>8148</th>\n",
       "      <td>114.09</td>\n",
       "      <td>115.02</td>\n",
       "      <td>113.98</td>\n",
       "      <td>114.77</td>\n",
       "      <td>22044719</td>\n",
       "    </tr>\n",
       "    <tr>\n",
       "      <th>8149</th>\n",
       "      <td>114.94</td>\n",
       "      <td>116.29</td>\n",
       "      <td>114.63</td>\n",
       "      <td>116.04</td>\n",
       "      <td>31419514</td>\n",
       "    </tr>\n",
       "    <tr>\n",
       "      <th>8150</th>\n",
       "      <td>116.08</td>\n",
       "      <td>117.54</td>\n",
       "      <td>116.07</td>\n",
       "      <td>117.11</td>\n",
       "      <td>32145605</td>\n",
       "    </tr>\n",
       "    <tr>\n",
       "      <th>...</th>\n",
       "      <td>...</td>\n",
       "      <td>...</td>\n",
       "      <td>...</td>\n",
       "      <td>...</td>\n",
       "      <td>...</td>\n",
       "    </tr>\n",
       "    <tr>\n",
       "      <th>8359</th>\n",
       "      <td>171.75</td>\n",
       "      <td>174.36</td>\n",
       "      <td>171.10</td>\n",
       "      <td>173.63</td>\n",
       "      <td>34901241</td>\n",
       "    </tr>\n",
       "    <tr>\n",
       "      <th>8360</th>\n",
       "      <td>173.29</td>\n",
       "      <td>174.51</td>\n",
       "      <td>173.29</td>\n",
       "      <td>174.18</td>\n",
       "      <td>24424877</td>\n",
       "    </tr>\n",
       "    <tr>\n",
       "      <th>8361</th>\n",
       "      <td>174.03</td>\n",
       "      <td>175.61</td>\n",
       "      <td>173.71</td>\n",
       "      <td>175.61</td>\n",
       "      <td>24451166</td>\n",
       "    </tr>\n",
       "    <tr>\n",
       "      <th>8362</th>\n",
       "      <td>174.48</td>\n",
       "      <td>175.46</td>\n",
       "      <td>172.52</td>\n",
       "      <td>175.25</td>\n",
       "      <td>29533086</td>\n",
       "    </tr>\n",
       "    <tr>\n",
       "      <th>8363</th>\n",
       "      <td>175.11</td>\n",
       "      <td>175.38</td>\n",
       "      <td>174.27</td>\n",
       "      <td>174.67</td>\n",
       "      <td>25130494</td>\n",
       "    </tr>\n",
       "  </tbody>\n",
       "</table>\n",
       "<p>218 rows × 5 columns</p>\n",
       "</div>"
      ],
      "text/plain": [
       "        Open    High     Low   Close    Volume\n",
       "8146  113.97  114.49  112.93  114.31  28186251\n",
       "8147  114.02  114.67  113.92  114.19  20850505\n",
       "8148  114.09  115.02  113.98  114.77  22044719\n",
       "8149  114.94  116.29  114.63  116.04  31419514\n",
       "8150  116.08  117.54  116.07  117.11  32145605\n",
       "...      ...     ...     ...     ...       ...\n",
       "8359  171.75  174.36  171.10  173.63  34901241\n",
       "8360  173.29  174.51  173.29  174.18  24424877\n",
       "8361  174.03  175.61  173.71  175.61  24451166\n",
       "8362  174.48  175.46  172.52  175.25  29533086\n",
       "8363  175.11  175.38  174.27  174.67  25130494\n",
       "\n",
       "[218 rows x 5 columns]"
      ]
     },
     "execution_count": 66,
     "metadata": {},
     "output_type": "execute_result"
    }
   ],
   "source": [
    "testingData"
   ]
  },
  {
   "cell_type": "code",
   "execution_count": 27,
   "metadata": {},
   "outputs": [
    {
     "data": {
      "text/plain": [
       "array([[0.00149615, 0.00151523, 0.00150356, 0.00153153, 0.01121865],\n",
       "       [0.00149615, 0.00148498, 0.00146298, 0.00151141, 0.00870751],\n",
       "       [0.00150619, 0.00157525, 0.00155484, 0.00157224, 0.02053281],\n",
       "       ...,\n",
       "       [0.90489777, 0.90824636, 0.91165393, 0.90836332, 0.00947901],\n",
       "       [0.8967439 , 0.90127277, 0.9132515 , 0.90812572, 0.00724152],\n",
       "       [0.89831195, 0.90197796, 0.90558313, 0.90099754, 0.01501526]])"
      ]
     },
     "execution_count": 27,
     "metadata": {},
     "output_type": "execute_result"
    }
   ],
   "source": [
    "scaler = MinMaxScaler()\n",
    "trainingData = scaler.fit_transform(trainingData)\n",
    "trainingData"
   ]
  },
  {
   "cell_type": "code",
   "execution_count": 37,
   "metadata": {},
   "outputs": [],
   "source": [
    "Xtrain = []\n",
    "Ytrain = []"
   ]
  },
  {
   "cell_type": "code",
   "execution_count": 38,
   "metadata": {},
   "outputs": [
    {
     "data": {
      "text/plain": [
       "8146"
      ]
     },
     "execution_count": 38,
     "metadata": {},
     "output_type": "execute_result"
    }
   ],
   "source": [
    "trainingData.shape[0]"
   ]
  },
  {
   "cell_type": "code",
   "execution_count": 39,
   "metadata": {},
   "outputs": [],
   "source": [
    "for i in range(60, trainingData.shape[0]):\n",
    "    Xtrain.append(trainingData[i-60:i])\n",
    "    Ytrain.append(trainingData[i, 0])"
   ]
  },
  {
   "cell_type": "code",
   "execution_count": 40,
   "metadata": {},
   "outputs": [],
   "source": [
    "Xtrain, Ytrain = np.array(Xtrain), np.array(Ytrain)"
   ]
  },
  {
   "cell_type": "code",
   "execution_count": 41,
   "metadata": {},
   "outputs": [
    {
     "data": {
      "text/plain": [
       "((8086, 60, 5), (8086,))"
      ]
     },
     "execution_count": 41,
     "metadata": {},
     "output_type": "execute_result"
    }
   ],
   "source": [
    "Xtrain.shape, Ytrain.shape"
   ]
  },
  {
   "cell_type": "code",
   "execution_count": null,
   "metadata": {},
   "outputs": [],
   "source": [
    "### Building LSTM"
   ]
  },
  {
   "cell_type": "code",
   "execution_count": 46,
   "metadata": {},
   "outputs": [],
   "source": [
    "from tensorflow.keras import Sequential\n",
    "from tensorflow.keras.layers import Dense, LSTM, Dropout"
   ]
  },
  {
   "cell_type": "code",
   "execution_count": 224,
   "metadata": {},
   "outputs": [],
   "source": [
    "regressor = Sequential()\n",
    "\n",
    "regressor.add(LSTM(units=60, activation='relu', return_sequences=True, input_shape=(Xtrain.shape[1], 5)))\n",
    "regressor.add(Dropout(0.2))\n",
    "\n",
    "regressor.add(LSTM(units=80, activation='relu', return_sequences=True))\n",
    "regressor.add(Dropout(0.3))\n",
    "\n",
    "regressor.add(LSTM(units=100, activation='relu', return_sequences=True))\n",
    "regressor.add(Dropout(0.4))\n",
    "\n",
    "regressor.add(LSTM(units=120, activation='relu'))\n",
    "regressor.add(Dropout(0.5))\n",
    "\n",
    "regressor.add(Dense(units=1))"
   ]
  },
  {
   "cell_type": "code",
   "execution_count": 225,
   "metadata": {},
   "outputs": [
    {
     "name": "stdout",
     "output_type": "stream",
     "text": [
      "Model: \"sequential_9\"\n",
      "_________________________________________________________________\n",
      "Layer (type)                 Output Shape              Param #   \n",
      "=================================================================\n",
      "lstm_18 (LSTM)               (None, 60, 60)            15840     \n",
      "_________________________________________________________________\n",
      "dropout_17 (Dropout)         (None, 60, 60)            0         \n",
      "_________________________________________________________________\n",
      "lstm_19 (LSTM)               (None, 60, 80)            45120     \n",
      "_________________________________________________________________\n",
      "dropout_18 (Dropout)         (None, 60, 80)            0         \n",
      "_________________________________________________________________\n",
      "lstm_20 (LSTM)               (None, 60, 100)           72400     \n",
      "_________________________________________________________________\n",
      "dropout_19 (Dropout)         (None, 60, 100)           0         \n",
      "_________________________________________________________________\n",
      "lstm_21 (LSTM)               (None, 120)               106080    \n",
      "_________________________________________________________________\n",
      "dropout_20 (Dropout)         (None, 120)               0         \n",
      "_________________________________________________________________\n",
      "dense_4 (Dense)              (None, 1)                 121       \n",
      "=================================================================\n",
      "Total params: 239,561\n",
      "Trainable params: 239,561\n",
      "Non-trainable params: 0\n",
      "_________________________________________________________________\n"
     ]
    }
   ],
   "source": [
    "regressor.summary()"
   ]
  },
  {
   "cell_type": "code",
   "execution_count": 226,
   "metadata": {},
   "outputs": [],
   "source": [
    "regressor.compile(optimizer='adam', loss='mean_squared_error')"
   ]
  },
  {
   "cell_type": "code",
   "execution_count": 227,
   "metadata": {},
   "outputs": [
    {
     "name": "stdout",
     "output_type": "stream",
     "text": [
      "Epoch 1/10\n",
      "253/253 [==============================] - 24s 76ms/step - loss: 0.0054\n",
      "Epoch 2/10\n",
      "253/253 [==============================] - 19s 77ms/step - loss: 0.0026\n",
      "Epoch 3/10\n",
      "253/253 [==============================] - 19s 76ms/step - loss: 0.0022\n",
      "Epoch 4/10\n",
      "253/253 [==============================] - 18s 72ms/step - loss: 0.0024\n",
      "Epoch 5/10\n",
      "253/253 [==============================] - 18s 71ms/step - loss: 0.0021\n",
      "Epoch 6/10\n",
      "253/253 [==============================] - 19s 75ms/step - loss: 0.0018\n",
      "Epoch 7/10\n",
      "253/253 [==============================] - 19s 76ms/step - loss: 0.0019\n",
      "Epoch 8/10\n",
      "253/253 [==============================] - 19s 75ms/step - loss: 0.0018\n",
      "Epoch 9/10\n",
      "253/253 [==============================] - 19s 76ms/step - loss: 0.0017\n",
      "Epoch 10/10\n",
      "253/253 [==============================] - 19s 76ms/step - loss: 0.0017\n"
     ]
    },
    {
     "data": {
      "text/plain": [
       "<tensorflow.python.keras.callbacks.History at 0x2742b3ea790>"
      ]
     },
     "execution_count": 227,
     "metadata": {},
     "output_type": "execute_result"
    }
   ],
   "source": [
    "regressor.fit(Xtrain, Ytrain, epochs=10, batch_size=32)"
   ]
  },
  {
   "cell_type": "code",
   "execution_count": 183,
   "metadata": {},
   "outputs": [],
   "source": [
    "### Prepare Test Dataset"
   ]
  },
  {
   "cell_type": "code",
   "execution_count": 228,
   "metadata": {},
   "outputs": [],
   "source": [
    "dataTrain = data[data['Date']<'2017-01-01'].copy()\n",
    "dataTest = data[data['Date']>='2017-01-01'].copy()"
   ]
  },
  {
   "cell_type": "code",
   "execution_count": 229,
   "metadata": {
    "scrolled": true
   },
   "outputs": [],
   "source": [
    "past60Days = dataTrain.tail(60)"
   ]
  },
  {
   "cell_type": "code",
   "execution_count": 230,
   "metadata": {},
   "outputs": [
    {
     "data": {
      "text/html": [
       "<div>\n",
       "<style scoped>\n",
       "    .dataframe tbody tr th:only-of-type {\n",
       "        vertical-align: middle;\n",
       "    }\n",
       "\n",
       "    .dataframe tbody tr th {\n",
       "        vertical-align: top;\n",
       "    }\n",
       "\n",
       "    .dataframe thead th {\n",
       "        text-align: right;\n",
       "    }\n",
       "</style>\n",
       "<table border=\"1\" class=\"dataframe\">\n",
       "  <thead>\n",
       "    <tr style=\"text-align: right;\">\n",
       "      <th></th>\n",
       "      <th>Open</th>\n",
       "      <th>High</th>\n",
       "      <th>Low</th>\n",
       "      <th>Close</th>\n",
       "      <th>Volume</th>\n",
       "    </tr>\n",
       "  </thead>\n",
       "  <tbody>\n",
       "    <tr>\n",
       "      <th>0</th>\n",
       "      <td>111.33</td>\n",
       "      <td>111.96</td>\n",
       "      <td>110.76</td>\n",
       "      <td>111.52</td>\n",
       "      <td>28654697</td>\n",
       "    </tr>\n",
       "    <tr>\n",
       "      <th>1</th>\n",
       "      <td>111.93</td>\n",
       "      <td>112.17</td>\n",
       "      <td>111.14</td>\n",
       "      <td>111.69</td>\n",
       "      <td>24470377</td>\n",
       "    </tr>\n",
       "    <tr>\n",
       "      <th>2</th>\n",
       "      <td>112.63</td>\n",
       "      <td>114.31</td>\n",
       "      <td>112.33</td>\n",
       "      <td>113.63</td>\n",
       "      <td>36107269</td>\n",
       "    </tr>\n",
       "    <tr>\n",
       "      <th>3</th>\n",
       "      <td>115.25</td>\n",
       "      <td>116.21</td>\n",
       "      <td>113.78</td>\n",
       "      <td>113.88</td>\n",
       "      <td>63602119</td>\n",
       "    </tr>\n",
       "    <tr>\n",
       "      <th>4</th>\n",
       "      <td>114.91</td>\n",
       "      <td>115.51</td>\n",
       "      <td>114.31</td>\n",
       "      <td>114.90</td>\n",
       "      <td>37745045</td>\n",
       "    </tr>\n",
       "    <tr>\n",
       "      <th>...</th>\n",
       "      <td>...</td>\n",
       "      <td>...</td>\n",
       "      <td>...</td>\n",
       "      <td>...</td>\n",
       "      <td>...</td>\n",
       "    </tr>\n",
       "    <tr>\n",
       "      <th>273</th>\n",
       "      <td>171.75</td>\n",
       "      <td>174.36</td>\n",
       "      <td>171.10</td>\n",
       "      <td>173.63</td>\n",
       "      <td>34901241</td>\n",
       "    </tr>\n",
       "    <tr>\n",
       "      <th>274</th>\n",
       "      <td>173.29</td>\n",
       "      <td>174.51</td>\n",
       "      <td>173.29</td>\n",
       "      <td>174.18</td>\n",
       "      <td>24424877</td>\n",
       "    </tr>\n",
       "    <tr>\n",
       "      <th>275</th>\n",
       "      <td>174.03</td>\n",
       "      <td>175.61</td>\n",
       "      <td>173.71</td>\n",
       "      <td>175.61</td>\n",
       "      <td>24451166</td>\n",
       "    </tr>\n",
       "    <tr>\n",
       "      <th>276</th>\n",
       "      <td>174.48</td>\n",
       "      <td>175.46</td>\n",
       "      <td>172.52</td>\n",
       "      <td>175.25</td>\n",
       "      <td>29533086</td>\n",
       "    </tr>\n",
       "    <tr>\n",
       "      <th>277</th>\n",
       "      <td>175.11</td>\n",
       "      <td>175.38</td>\n",
       "      <td>174.27</td>\n",
       "      <td>174.67</td>\n",
       "      <td>25130494</td>\n",
       "    </tr>\n",
       "  </tbody>\n",
       "</table>\n",
       "<p>278 rows × 5 columns</p>\n",
       "</div>"
      ],
      "text/plain": [
       "       Open    High     Low   Close    Volume\n",
       "0    111.33  111.96  110.76  111.52  28654697\n",
       "1    111.93  112.17  111.14  111.69  24470377\n",
       "2    112.63  114.31  112.33  113.63  36107269\n",
       "3    115.25  116.21  113.78  113.88  63602119\n",
       "4    114.91  115.51  114.31  114.90  37745045\n",
       "..      ...     ...     ...     ...       ...\n",
       "273  171.75  174.36  171.10  173.63  34901241\n",
       "274  173.29  174.51  173.29  174.18  24424877\n",
       "275  174.03  175.61  173.71  175.61  24451166\n",
       "276  174.48  175.46  172.52  175.25  29533086\n",
       "277  175.11  175.38  174.27  174.67  25130494\n",
       "\n",
       "[278 rows x 5 columns]"
      ]
     },
     "execution_count": 230,
     "metadata": {},
     "output_type": "execute_result"
    }
   ],
   "source": [
    "df = past60Days.append(dataTest, ignore_index=True)\n",
    "df = df.drop(['Date'], axis=1)\n",
    "df"
   ]
  },
  {
   "cell_type": "code",
   "execution_count": 231,
   "metadata": {},
   "outputs": [
    {
     "data": {
      "text/plain": [
       "array([[0.87102788, 0.87541563, 0.88289752, 0.88143465, 0.01384439],\n",
       "       [0.87573203, 0.87706109, 0.88593292, 0.88278109, 0.01182275],\n",
       "       [0.88122021, 0.89382905, 0.89543851, 0.89814627, 0.01744507],\n",
       "       ...,\n",
       "       [1.36261157, 1.37414487, 1.38573526, 1.38904006, 0.01181347],\n",
       "       [1.36613968, 1.37296955, 1.37622967, 1.38618879, 0.01426878],\n",
       "       [1.37107904, 1.37234271, 1.39020848, 1.38159508, 0.01214169]])"
      ]
     },
     "execution_count": 231,
     "metadata": {},
     "output_type": "execute_result"
    }
   ],
   "source": [
    "inputs = scaler.transform(df)\n",
    "inputs"
   ]
  },
  {
   "cell_type": "code",
   "execution_count": 232,
   "metadata": {},
   "outputs": [],
   "source": [
    "Xtest = []\n",
    "Ytest = []\n",
    "\n",
    "for i in range(60, inputs.shape[0]):\n",
    "    Xtest.append(inputs[i-60:i])\n",
    "    Ytest.append(inputs[i, 0])"
   ]
  },
  {
   "cell_type": "code",
   "execution_count": 233,
   "metadata": {},
   "outputs": [
    {
     "data": {
      "text/plain": [
       "((218, 60, 5), (218,))"
      ]
     },
     "execution_count": 233,
     "metadata": {},
     "output_type": "execute_result"
    }
   ],
   "source": [
    "Xtest, Ytest = np.array(Xtest), np.array(Ytest)\n",
    "Xtest.shape, Ytest.shape "
   ]
  },
  {
   "cell_type": "code",
   "execution_count": 235,
   "metadata": {},
   "outputs": [],
   "source": [
    "Ypred = regressor.predict(Xtest)"
   ]
  },
  {
   "cell_type": "code",
   "execution_count": 236,
   "metadata": {},
   "outputs": [],
   "source": [
    "s = scaler.scale_\n",
    "scale = 1 / s[0]"
   ]
  },
  {
   "cell_type": "code",
   "execution_count": 237,
   "metadata": {},
   "outputs": [
    {
     "data": {
      "text/plain": [
       "127.54695000000001"
      ]
     },
     "execution_count": 237,
     "metadata": {},
     "output_type": "execute_result"
    }
   ],
   "source": [
    "scale"
   ]
  },
  {
   "cell_type": "code",
   "execution_count": 238,
   "metadata": {},
   "outputs": [
    {
     "data": {
      "text/plain": [
       "(218, 1)"
      ]
     },
     "execution_count": 238,
     "metadata": {},
     "output_type": "execute_result"
    }
   ],
   "source": [
    "Ypred = Ypred*scale\n",
    "Ytest = Ytest*scale\n",
    "Ypred.shape"
   ]
  },
  {
   "cell_type": "code",
   "execution_count": 239,
   "metadata": {},
   "outputs": [],
   "source": [
    "### Visualization"
   ]
  },
  {
   "cell_type": "code",
   "execution_count": 240,
   "metadata": {},
   "outputs": [
    {
     "data": {
      "image/png": "[encoded data removed]",
      "text/plain": [
       "<Figure size 1008x360 with 1 Axes>"
      ]
     },
     "metadata": {
      "needs_background": "light"
     },
     "output_type": "display_data"
    }
   ],
   "source": [
    "plt.figure(figsize=(14,5))\n",
    "plt.plot(Ytest, color='red', label='Real Apple Stock Price')\n",
    "plt.plot(Ypred, color='green', label='Predict Apple Stock Price')\n",
    "plt.title('Apple Stock Price Prediction through RNN')\n",
    "plt.xlabel('Time')\n",
    "plt.ylabel('Apple Stock Price')\n",
    "plt.legend()\n",
    "plt.show()"
   ]
  },
  {
   "cell_type": "code",
   "execution_count": null,
   "metadata": {},
   "outputs": [],
   "source": []
  },
  {
   "cell_type": "code",
   "execution_count": null,
   "metadata": {},
   "outputs": [],
   "source": []
  },
  {
   "cell_type": "code",
   "execution_count": null,
   "metadata": {},
   "outputs": [],
   "source": []
  }
 ],
 "metadata": {
  "kernelspec": {
   "display_name": "Python 3",
   "language": "python",
   "name": "python3"
  },
  "language_info": {
   "codemirror_mode": {
    "name": "ipython",
    "version": 3
   },
   "file_extension": ".py",
   "mimetype": "text/x-python",
   "name": "python",
   "nbconvert_exporter": "python",
   "pygments_lexer": "ipython3",
   "version": "3.8.5"
  }
 },
 "nbformat": 4,
 "nbformat_minor": 4
}
